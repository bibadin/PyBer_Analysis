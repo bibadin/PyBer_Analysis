{
 "cells": [
  {
   "cell_type": "code",
   "execution_count": null,
   "id": "0a43c3bd",
   "metadata": {},
   "outputs": [],
   "source": [
    "%matplotlib inline\n",
    "#Import dependencies\n",
    "import matplotlib.pyplot as plt\n",
    "# Set the x-axis to a list of strings for each month.\n",
    "x_axis = [\"Jan\", \"Feb\", \"Mar\", \"April\", \"May\", \"June\", \"July\", \"Aug\", \"Sept\", \"Oct\", \"Nov\", \"Dec\"]\n",
    "\n",
    "# Set the y-axis to a list of floats as the total fare in US dollars accumulated for each month.\n",
    "y_axis = [10.02, 23.24, 39.20, 35.42, 32.34, 27.04, 43.82, 10.56, 11.85, 27.90, 20.71, 20.09]"
   ]
  },
  {
   "cell_type": "code",
   "execution_count": null,
   "id": "305dd294",
   "metadata": {},
   "outputs": [],
   "source": [
    "#Create plot \n",
    "plt.plot(x_axis, y_axis)\n",
    "plt.show()"
   ]
  },
  {
   "cell_type": "code",
   "execution_count": null,
   "id": "e2966507",
   "metadata": {},
   "outputs": [],
   "source": [
    "#Create the plot with ax.plot()\n",
    "fig, ax=subplots()\n",
    "ax.plot(x_axis, y_axis)"
   ]
  },
  {
   "cell_type": "code",
   "execution_count": null,
   "id": "14c32b5e",
   "metadata": {},
   "outputs": [],
   "source": [
    "#Create the plot with ax.plot()\n",
    "fig=plt.figure()\n",
    "ax=fig.add_subplot()"
   ]
  },
  {
   "cell_type": "code",
   "execution_count": null,
   "id": "1815e758",
   "metadata": {},
   "outputs": [],
   "source": []
  }
 ],
 "metadata": {
  "kernelspec": {
   "display_name": "PythonData",
   "language": "python",
   "name": "pythondata"
  }
 },
 "nbformat": 4,
 "nbformat_minor": 5
}
